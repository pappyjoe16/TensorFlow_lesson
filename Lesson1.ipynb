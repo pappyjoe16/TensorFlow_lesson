{
  "nbformat": 4,
  "nbformat_minor": 0,
  "metadata": {
    "colab": {
      "provenance": [],
      "authorship_tag": "ABX9TyOY8DIHNsIiOkxA/KQ5hfwS",
      "include_colab_link": true
    },
    "kernelspec": {
      "name": "python3",
      "display_name": "Python 3"
    },
    "language_info": {
      "name": "python"
    }
  },
  "cells": [
    {
      "cell_type": "markdown",
      "metadata": {
        "id": "view-in-github",
        "colab_type": "text"
      },
      "source": [
        "<a href=\"https://colab.research.google.com/github/pappyjoe16/TensorFlow_lesson/blob/main/Lesson1.ipynb\" target=\"_parent\"><img src=\"https://colab.research.google.com/assets/colab-badge.svg\" alt=\"Open In Colab\"/></a>"
      ]
    },
    {
      "cell_type": "markdown",
      "source": [
        "# **Installing TensorFlow **"
      ],
      "metadata": {
        "id": "ypIbEp7V-E6B"
      }
    },
    {
      "cell_type": "code",
      "source": [
        "!pip install tensorflow-gpu==2.2.0-alpha0"
      ],
      "metadata": {
        "colab": {
          "base_uri": "https://localhost:8080/"
        },
        "id": "h5bA_7mJAx9J",
        "outputId": "2983e028-aef4-446a-e197-c3b1e65dafc5"
      },
      "execution_count": 8,
      "outputs": [
        {
          "output_type": "stream",
          "name": "stdout",
          "text": [
            "Looking in indexes: https://pypi.org/simple, https://us-python.pkg.dev/colab-wheels/public/simple/\n",
            "\u001b[31mERROR: Could not find a version that satisfies the requirement tensorflow-gpu==2.2.0-alpha0 (from versions: 2.2.0, 2.2.1, 2.2.2, 2.2.3, 2.3.0, 2.3.1, 2.3.2, 2.3.3, 2.3.4, 2.4.0, 2.4.1, 2.4.2, 2.4.3, 2.4.4, 2.5.0, 2.5.1, 2.5.2, 2.5.3, 2.6.0, 2.6.1, 2.6.2, 2.6.3, 2.6.4, 2.6.5, 2.7.0rc0, 2.7.0rc1, 2.7.0, 2.7.1, 2.7.2, 2.7.3, 2.7.4, 2.8.0rc0, 2.8.0rc1, 2.8.0, 2.8.1, 2.8.2, 2.8.3, 2.8.4, 2.9.0rc0, 2.9.0rc1, 2.9.0rc2, 2.9.0, 2.9.1, 2.9.2, 2.9.3, 2.10.0rc0, 2.10.0rc1, 2.10.0rc2, 2.10.0rc3, 2.10.0, 2.10.1, 2.11.0rc0, 2.11.0rc1, 2.11.0rc2, 2.11.0, 2.12.0)\u001b[0m\u001b[31m\n",
            "\u001b[0m\u001b[31mERROR: No matching distribution found for tensorflow-gpu==2.2.0-alpha0\u001b[0m\u001b[31m\n",
            "\u001b[0m"
          ]
        }
      ]
    },
    {
      "cell_type": "markdown",
      "source": [
        "## **Import required libraries**"
      ],
      "metadata": {
        "id": "lRQB-3zARdcV"
      }
    },
    {
      "cell_type": "code",
      "source": [
        "import tensorflow as tf\n",
        "import numpy as np"
      ],
      "metadata": {
        "id": "exJXN5nrQx66"
      },
      "execution_count": 12,
      "outputs": []
    },
    {
      "cell_type": "code",
      "source": [
        "#geting the version\n",
        "tf.__version__"
      ],
      "metadata": {
        "colab": {
          "base_uri": "https://localhost:8080/",
          "height": 35
        },
        "id": "rZmMO3QvRXXc",
        "outputId": "7034d28b-6b0f-4d8b-c0df-55fa4c6ba0a0"
      },
      "execution_count": 27,
      "outputs": [
        {
          "output_type": "execute_result",
          "data": {
            "text/plain": [
              "'2.2.0'"
            ],
            "application/vnd.google.colaboratory.intrinsic+json": {
              "type": "string"
            }
          },
          "metadata": {},
          "execution_count": 27
        }
      ]
    },
    {
      "cell_type": "code",
      "source": [
        "#Defining a constant in TensorFlow\n",
        "tensor_20 = tf.constant([[23.5, 4], [32, 5.1]])"
      ],
      "metadata": {
        "id": "8560NtE9RutQ"
      },
      "execution_count": 25,
      "outputs": []
    },
    {
      "cell_type": "code",
      "source": [
        "#calling out the constant \n",
        "tensor_20"
      ],
      "metadata": {
        "colab": {
          "base_uri": "https://localhost:8080/"
        },
        "id": "L-xLPhKBSOxM",
        "outputId": "2609a46e-eb1b-4579-8b99-1add2cdd8c93"
      },
      "execution_count": 26,
      "outputs": [
        {
          "output_type": "execute_result",
          "data": {
            "text/plain": [
              "<tf.Tensor: shape=(2, 2), dtype=float32, numpy=\n",
              "array([[23.5,  4. ],\n",
              "       [32. ,  5.1]], dtype=float32)>"
            ]
          },
          "metadata": {},
          "execution_count": 26
        }
      ]
    },
    {
      "cell_type": "code",
      "source": [
        "#Getting the shape of the constant variable \n",
        "tensor_20.shape"
      ],
      "metadata": {
        "colab": {
          "base_uri": "https://localhost:8080/"
        },
        "id": "0bRygpYFTaVa",
        "outputId": "d3533cb8-4b28-4e6c-b9ba-f68a2db28c54"
      },
      "execution_count": 28,
      "outputs": [
        {
          "output_type": "execute_result",
          "data": {
            "text/plain": [
              "TensorShape([2, 2])"
            ]
          },
          "metadata": {},
          "execution_count": 28
        }
      ]
    },
    {
      "cell_type": "code",
      "source": [
        "tensor_20.numpy()"
      ],
      "metadata": {
        "colab": {
          "base_uri": "https://localhost:8080/"
        },
        "id": "kYmi983wT6-g",
        "outputId": "71de7a9c-5d55-48dd-b76d-5bcef06aa123"
      },
      "execution_count": 30,
      "outputs": [
        {
          "output_type": "execute_result",
          "data": {
            "text/plain": [
              "array([[23.5,  4. ],\n",
              "       [32. ,  5.1]], dtype=float32)"
            ]
          },
          "metadata": {},
          "execution_count": 30
        }
      ]
    },
    {
      "cell_type": "code",
      "source": [
        "#converting array to tensor\n",
        "numpy_tensor = np.array([[23, 12], [13, 42]])"
      ],
      "metadata": {
        "id": "lp1juLPmUxTW"
      },
      "execution_count": 31,
      "outputs": []
    },
    {
      "cell_type": "code",
      "source": [
        "tensor_from_numpy = tf.constant(numpy_tensor)\n",
        "#tensor_from_numpy\n",
        "tensor_from_numpy.numpy()"
      ],
      "metadata": {
        "colab": {
          "base_uri": "https://localhost:8080/"
        },
        "id": "dwVbbLbTVHzz",
        "outputId": "16b823ba-b0f3-41ec-9898-5158b149cd8e"
      },
      "execution_count": 37,
      "outputs": [
        {
          "output_type": "execute_result",
          "data": {
            "text/plain": [
              "array([[23, 12],\n",
              "       [13, 42]])"
            ]
          },
          "metadata": {},
          "execution_count": 37
        }
      ]
    },
    {
      "cell_type": "markdown",
      "source": [
        "# **Variable**"
      ],
      "metadata": {
        "id": "DLcrOOkYV9pN"
      }
    },
    {
      "cell_type": "code",
      "source": [
        "#Defining a variable \n",
        "tf2_variable = tf.Variable([[1, 3, 5], [2, 4, 6], [3, 5, 6]])\n",
        "#Getting the variable values\n",
        "#tf2_variable.numpy()\n",
        "tf2_variable"
      ],
      "metadata": {
        "colab": {
          "base_uri": "https://localhost:8080/"
        },
        "id": "sXOqyhuuWCpn",
        "outputId": "0e9e473f-d396-4d26-e31b-042e2f7deb72"
      },
      "execution_count": 43,
      "outputs": [
        {
          "output_type": "execute_result",
          "data": {
            "text/plain": [
              "<tf.Variable 'Variable:0' shape=(3, 3) dtype=int32, numpy=\n",
              "array([[1, 3, 5],\n",
              "       [2, 4, 6],\n",
              "       [3, 5, 6]], dtype=int32)>"
            ]
          },
          "metadata": {},
          "execution_count": 43
        }
      ]
    },
    {
      "cell_type": "code",
      "source": [
        "#To change a specific value in the variable\n",
        "tf2_variable[1, 1].assign(9).numpy() # [1,1] represent [row1 coloum1]"
      ],
      "metadata": {
        "colab": {
          "base_uri": "https://localhost:8080/"
        },
        "id": "65MwcvXvX0-h",
        "outputId": "7f8df299-84f0-4b47-c560-682899f6c180"
      },
      "execution_count": 46,
      "outputs": [
        {
          "output_type": "execute_result",
          "data": {
            "text/plain": [
              "array([[1, 3, 5],\n",
              "       [2, 9, 6],\n",
              "       [3, 5, 6]], dtype=int32)"
            ]
          },
          "metadata": {},
          "execution_count": 46
        }
      ]
    },
    {
      "cell_type": "markdown",
      "source": [
        "# **Operations with tensors**"
      ],
      "metadata": {
        "id": "Xh8seFjLZYh5"
      }
    },
    {
      "cell_type": "code",
      "source": [
        "#declaring a constant\n",
        "tensor = tf.constant([[1, 2], [3, 4]])\n",
        "tensor.numpy()"
      ],
      "metadata": {
        "colab": {
          "base_uri": "https://localhost:8080/"
        },
        "id": "ZJmcn4eBZiFU",
        "outputId": "1d461614-753c-4b89-a6fd-eec64585bf10"
      },
      "execution_count": 47,
      "outputs": [
        {
          "output_type": "execute_result",
          "data": {
            "text/plain": [
              "array([[1, 2],\n",
              "       [3, 4]], dtype=int32)"
            ]
          },
          "metadata": {},
          "execution_count": 47
        }
      ]
    },
    {
      "cell_type": "code",
      "source": [
        "#Addition between scalar(unit value, value with no dimention) and a tensor\n",
        "tensor + 2"
      ],
      "metadata": {
        "colab": {
          "base_uri": "https://localhost:8080/"
        },
        "id": "1Q78vXidaTdO",
        "outputId": "ac36aa02-bd9e-480b-ba07-80088a412243"
      },
      "execution_count": 48,
      "outputs": [
        {
          "output_type": "execute_result",
          "data": {
            "text/plain": [
              "<tf.Tensor: shape=(2, 2), dtype=int32, numpy=\n",
              "array([[3, 4],\n",
              "       [5, 6]], dtype=int32)>"
            ]
          },
          "metadata": {},
          "execution_count": 48
        }
      ]
    },
    {
      "cell_type": "code",
      "source": [
        "#Multiplication between scalar(unit value, value with no dimention) and a tensor\n",
        "tensor * 4"
      ],
      "metadata": {
        "colab": {
          "base_uri": "https://localhost:8080/"
        },
        "id": "LAw0lGGabPwu",
        "outputId": "4cc5a55c-16cd-4a4d-ae37-4b53d21a90a9"
      },
      "execution_count": 49,
      "outputs": [
        {
          "output_type": "execute_result",
          "data": {
            "text/plain": [
              "<tf.Tensor: shape=(2, 2), dtype=int32, numpy=\n",
              "array([[ 4,  8],\n",
              "       [12, 16]], dtype=int32)>"
            ]
          },
          "metadata": {},
          "execution_count": 49
        }
      ]
    },
    {
      "cell_type": "markdown",
      "source": [
        "# **Using numpy function on tensorflow tensor**"
      ],
      "metadata": {
        "id": "GsGcWku-c2vz"
      }
    },
    {
      "cell_type": "code",
      "source": [
        "#Getting the squares of all members in a tensorflow tensor object\n",
        "np.square(tensor)"
      ],
      "metadata": {
        "colab": {
          "base_uri": "https://localhost:8080/"
        },
        "id": "2RLAuDYOb7hs",
        "outputId": "5e51838f-ae08-4d3e-f3cf-d66a21ebd328"
      },
      "execution_count": 50,
      "outputs": [
        {
          "output_type": "execute_result",
          "data": {
            "text/plain": [
              "array([[ 1,  4],\n",
              "       [ 9, 16]], dtype=int32)"
            ]
          },
          "metadata": {},
          "execution_count": 50
        }
      ]
    },
    {
      "cell_type": "code",
      "source": [
        "#Getting the square root of all members in a tensorflow tensor object\n",
        "np.sqrt(tensor)"
      ],
      "metadata": {
        "colab": {
          "base_uri": "https://localhost:8080/"
        },
        "id": "2ZnP6ZDackW3",
        "outputId": "8876af77-b674-4ddb-cba5-ecb551a4fd3d"
      },
      "execution_count": 51,
      "outputs": [
        {
          "output_type": "execute_result",
          "data": {
            "text/plain": [
              "array([[1.        , 1.41421356],\n",
              "       [1.73205081, 2.        ]])"
            ]
          },
          "metadata": {},
          "execution_count": 51
        }
      ]
    },
    {
      "cell_type": "code",
      "source": [
        "#Getting the exponential of all members in a tensorflow tensor object\n",
        "np.exp(tensor)"
      ],
      "metadata": {
        "colab": {
          "base_uri": "https://localhost:8080/"
        },
        "id": "jzUAkP0JdAcy",
        "outputId": "9ae7d802-acff-4503-9cf2-18c7cea674d3"
      },
      "execution_count": 52,
      "outputs": [
        {
          "output_type": "execute_result",
          "data": {
            "text/plain": [
              "array([[ 2.71828183,  7.3890561 ],\n",
              "       [20.08553692, 54.59815003]])"
            ]
          },
          "metadata": {},
          "execution_count": 52
        }
      ]
    },
    {
      "cell_type": "code",
      "source": [
        "#Dot product between two tensors\n",
        "np.dot(tensor_20, tensor)"
      ],
      "metadata": {
        "colab": {
          "base_uri": "https://localhost:8080/"
        },
        "id": "NEtbB-W9fIpT",
        "outputId": "fa7a1830-8ba0-404c-bd21-544934a8701f"
      },
      "execution_count": 57,
      "outputs": [
        {
          "output_type": "execute_result",
          "data": {
            "text/plain": [
              "array([[35.5       , 63.        ],\n",
              "       [47.29999971, 84.39999962]])"
            ]
          },
          "metadata": {},
          "execution_count": 57
        }
      ]
    },
    {
      "cell_type": "code",
      "source": [
        "np.dot(tensor, tensor_20)"
      ],
      "metadata": {
        "colab": {
          "base_uri": "https://localhost:8080/"
        },
        "id": "wbWVUZ1Pfx0i",
        "outputId": "092559d7-a369-40d2-e814-7d9d8fac5daf"
      },
      "execution_count": 58,
      "outputs": [
        {
          "output_type": "execute_result",
          "data": {
            "text/plain": [
              "array([[ 87.5       ,  14.19999981],\n",
              "       [198.5       ,  32.39999962]])"
            ]
          },
          "metadata": {},
          "execution_count": 58
        }
      ]
    },
    {
      "cell_type": "markdown",
      "source": [
        "# **Strings in Tensorflow**"
      ],
      "metadata": {
        "id": "igLCsAUcgTO5"
      }
    },
    {
      "cell_type": "code",
      "source": [
        "#Dclaring Strings\n",
        "tf_string = tf.constant(\"Welcome to Tensorflow\")\n",
        "#tf_string.numpy()\n",
        "tf_string"
      ],
      "metadata": {
        "colab": {
          "base_uri": "https://localhost:8080/"
        },
        "id": "AYKJePyTgZRV",
        "outputId": "f1da8631-1e1d-41a5-a0af-4d9f99ef6324"
      },
      "execution_count": 61,
      "outputs": [
        {
          "output_type": "execute_result",
          "data": {
            "text/plain": [
              "<tf.Tensor: shape=(), dtype=string, numpy=b'Welcome to Tensorflow'>"
            ]
          },
          "metadata": {},
          "execution_count": 61
        }
      ]
    },
    {
      "cell_type": "code",
      "source": [
        "#To get the length of the string\n",
        "tf.strings.length(tf_string)"
      ],
      "metadata": {
        "colab": {
          "base_uri": "https://localhost:8080/"
        },
        "id": "wmsn9Kzykcn3",
        "outputId": "66ef12c9-dbb0-4f06-e532-57a18337adca"
      },
      "execution_count": 62,
      "outputs": [
        {
          "output_type": "execute_result",
          "data": {
            "text/plain": [
              "<tf.Tensor: shape=(), dtype=int32, numpy=21>"
            ]
          },
          "metadata": {},
          "execution_count": 62
        }
      ]
    },
    {
      "cell_type": "code",
      "source": [
        "#To decode string into \"UTF8\"\n",
        "tf.strings.unicode_decode(tf_string, \"UTF8\")"
      ],
      "metadata": {
        "colab": {
          "base_uri": "https://localhost:8080/"
        },
        "id": "_27aX_zHkx9_",
        "outputId": "29c9e333-399a-4a36-f451-61c7c88c97ff"
      },
      "execution_count": 66,
      "outputs": [
        {
          "output_type": "execute_result",
          "data": {
            "text/plain": [
              "<tf.Tensor: shape=(21,), dtype=int32, numpy=\n",
              "array([ 87, 101, 108,  99, 111, 109, 101,  32, 116, 111,  32,  84, 101,\n",
              "       110, 115, 111, 114, 102, 108, 111, 119], dtype=int32)>"
            ]
          },
          "metadata": {},
          "execution_count": 66
        }
      ]
    },
    {
      "cell_type": "code",
      "source": [
        "#Storing arrays of strings\n",
        "tf_string_array = tf.constant([\"TensorFlow\", \"Deep learning\", \"Machine learning\", \"AI\"])"
      ],
      "metadata": {
        "id": "cKmvhcWzl4PH"
      },
      "execution_count": 67,
      "outputs": []
    },
    {
      "cell_type": "code",
      "source": [
        "#Iterating through array of Strings\n",
        "for string in tf_string_array:\n",
        "  print(string.numpy())"
      ],
      "metadata": {
        "colab": {
          "base_uri": "https://localhost:8080/"
        },
        "id": "mGblLe3CmU1-",
        "outputId": "be06a59f-d95a-4d48-c909-149fc5ed39e6"
      },
      "execution_count": 71,
      "outputs": [
        {
          "output_type": "stream",
          "name": "stdout",
          "text": [
            "b'TensorFlow'\n",
            "b'Deep learning'\n",
            "b'Machine learning'\n",
            "b'AI'\n"
          ]
        }
      ]
    }
  ]
}